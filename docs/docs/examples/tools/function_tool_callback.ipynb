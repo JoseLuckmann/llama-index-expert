{
 "cells": [
  {
   "cell_type": "markdown",
   "metadata": {},
   "source": [
    "# Function call with callback\n",
    "\n",
    "This is a feature that allows applying some human-in-the-loop concepts in FunctionTool.\n",
    "\n",
    "Basically, a callback function is added that enables the developer to request user input in the middle of an agent interaction, as well as allowing any programmatic action."
   ]
  },
  {
   "cell_type": "code",
   "execution_count": null,
   "metadata": {},
   "outputs": [],
   "source": [
    "%pip install llama-index-llms-openai\n",
    "%pip install llama-index-agents-openai"
   ]
  },
  {
   "cell_type": "code",
   "execution_count": 7,
   "metadata": {},
   "outputs": [],
   "source": [
    "from llama_index.core.tools import FunctionTool\n",
    "from llama_index.agent.openai import OpenAIAgent\n",
    "from llama_index.llms.openai import OpenAI\n",
    "import os"
   ]
  },
  {
   "cell_type": "code",
   "execution_count": 8,
   "metadata": {},
   "outputs": [],
   "source": [
    "os.environ[\"OPENAI_API_KEY\"] = \"sk-\""
   ]
  },
  {
   "cell_type": "markdown",
   "metadata": {},
   "source": [
    "Function to display to the user the data produced for function calling and request their input to return to the interaction."
   ]
  },
  {
   "cell_type": "code",
   "execution_count": 17,
   "metadata": {},
   "outputs": [],
   "source": [
    "def callback(message):\n",
    "    confirmation = input(\n",
    "        f\"{message[1]}\\nDo you approve of sending this greeting?\\nInput(Y/N):\"\n",
    "    )\n",
    "\n",
    "    if confirmation.lower() == \"y\":\n",
    "        # Here you can trigger an action such as sending an email, message, api call, etc.\n",
    "        return \"Greeting sent successfully.\"\n",
    "    else:\n",
    "        return (\n",
    "            \"Greeting has not been approved, talk a bit about how to improve\"\n",
    "        )"
   ]
  },
  {
   "cell_type": "markdown",
   "metadata": {},
   "source": [
    "Simple function that only requires a recipient and a greeting message."
   ]
  },
  {
   "cell_type": "code",
   "execution_count": 18,
   "metadata": {},
   "outputs": [],
   "source": [
    "def send_hello(destination: str, message: str) -> str:\n",
    "    \"\"\"\n",
    "    Say hello with a rhyme\n",
    "    destination: str - Name of recipient\n",
    "    message: str - Greeting message with a rhyme to the recipient's name\n",
    "    \"\"\"\n",
    "\n",
    "    return destination, message\n",
    "\n",
    "\n",
    "hello_tool = FunctionTool.from_defaults(fn=send_hello, callback=callback)"
   ]
  },
  {
   "cell_type": "code",
   "execution_count": 23,
   "metadata": {},
   "outputs": [
    {
     "ename": "ValidationError",
     "evalue": "1 validation error for Tool\nargs_schema\n  subclass of BaseModel expected (type=type_error.subclass; expected_class=BaseModel)",
     "output_type": "error",
     "traceback": [
      "\u001b[0;31m---------------------------------------------------------------------------\u001b[0m",
      "\u001b[0;31mValidationError\u001b[0m                           Traceback (most recent call last)",
      "Cell \u001b[0;32mIn[23], line 1\u001b[0m\n\u001b[0;32m----> 1\u001b[0m hello_tool\u001b[38;5;241m.\u001b[39mto_langchain_tool()\n",
      "File \u001b[0;32m~/Code/llama-index-expert/llama-index-core/llama_index/core/tools/function_tool.py:156\u001b[0m, in \u001b[0;36mFunctionTool.to_langchain_tool\u001b[0;34m(self, **langchain_tool_kwargs)\u001b[0m\n\u001b[1;32m    151\u001b[0m \u001b[38;5;28;01mfrom\u001b[39;00m \u001b[38;5;21;01mllama_index\u001b[39;00m\u001b[38;5;21;01m.\u001b[39;00m\u001b[38;5;21;01mcore\u001b[39;00m\u001b[38;5;21;01m.\u001b[39;00m\u001b[38;5;21;01mbridge\u001b[39;00m\u001b[38;5;21;01m.\u001b[39;00m\u001b[38;5;21;01mlangchain\u001b[39;00m \u001b[38;5;28;01mimport\u001b[39;00m Tool\n\u001b[1;32m    153\u001b[0m langchain_tool_kwargs \u001b[38;5;241m=\u001b[39m \u001b[38;5;28mself\u001b[39m\u001b[38;5;241m.\u001b[39m_process_langchain_tool_kwargs(\n\u001b[1;32m    154\u001b[0m     langchain_tool_kwargs\n\u001b[1;32m    155\u001b[0m )\n\u001b[0;32m--> 156\u001b[0m \u001b[38;5;28;01mreturn\u001b[39;00m Tool\u001b[38;5;241m.\u001b[39mfrom_function(\n\u001b[1;32m    157\u001b[0m     func\u001b[38;5;241m=\u001b[39m\u001b[38;5;28mself\u001b[39m\u001b[38;5;241m.\u001b[39mfn,\n\u001b[1;32m    158\u001b[0m     coroutine\u001b[38;5;241m=\u001b[39m\u001b[38;5;28mself\u001b[39m\u001b[38;5;241m.\u001b[39masync_fn,\n\u001b[1;32m    159\u001b[0m     \u001b[38;5;241m*\u001b[39m\u001b[38;5;241m*\u001b[39mlangchain_tool_kwargs,\n\u001b[1;32m    160\u001b[0m )\n",
      "File \u001b[0;32m/usr/share/miniconda3/lib/python3.12/site-packages/langchain_core/tools.py:691\u001b[0m, in \u001b[0;36mTool.from_function\u001b[0;34m(cls, func, name, description, return_direct, args_schema, coroutine, **kwargs)\u001b[0m\n\u001b[1;32m    689\u001b[0m \u001b[38;5;28;01mif\u001b[39;00m func \u001b[38;5;129;01mis\u001b[39;00m \u001b[38;5;28;01mNone\u001b[39;00m \u001b[38;5;129;01mand\u001b[39;00m coroutine \u001b[38;5;129;01mis\u001b[39;00m \u001b[38;5;28;01mNone\u001b[39;00m:\n\u001b[1;32m    690\u001b[0m     \u001b[38;5;28;01mraise\u001b[39;00m \u001b[38;5;167;01mValueError\u001b[39;00m(\u001b[38;5;124m\"\u001b[39m\u001b[38;5;124mFunction and/or coroutine must be provided\u001b[39m\u001b[38;5;124m\"\u001b[39m)\n\u001b[0;32m--> 691\u001b[0m \u001b[38;5;28;01mreturn\u001b[39;00m \u001b[38;5;28mcls\u001b[39m(\n\u001b[1;32m    692\u001b[0m     name\u001b[38;5;241m=\u001b[39mname,\n\u001b[1;32m    693\u001b[0m     func\u001b[38;5;241m=\u001b[39mfunc,\n\u001b[1;32m    694\u001b[0m     coroutine\u001b[38;5;241m=\u001b[39mcoroutine,\n\u001b[1;32m    695\u001b[0m     description\u001b[38;5;241m=\u001b[39mdescription,\n\u001b[1;32m    696\u001b[0m     return_direct\u001b[38;5;241m=\u001b[39mreturn_direct,\n\u001b[1;32m    697\u001b[0m     args_schema\u001b[38;5;241m=\u001b[39margs_schema,\n\u001b[1;32m    698\u001b[0m     \u001b[38;5;241m*\u001b[39m\u001b[38;5;241m*\u001b[39mkwargs,\n\u001b[1;32m    699\u001b[0m )\n",
      "File \u001b[0;32m/usr/share/miniconda3/lib/python3.12/site-packages/langchain_core/tools.py:671\u001b[0m, in \u001b[0;36mTool.__init__\u001b[0;34m(self, name, func, description, **kwargs)\u001b[0m\n\u001b[1;32m    667\u001b[0m \u001b[38;5;28;01mdef\u001b[39;00m \u001b[38;5;21m__init__\u001b[39m(\n\u001b[1;32m    668\u001b[0m     \u001b[38;5;28mself\u001b[39m, name: \u001b[38;5;28mstr\u001b[39m, func: Optional[Callable], description: \u001b[38;5;28mstr\u001b[39m, \u001b[38;5;241m*\u001b[39m\u001b[38;5;241m*\u001b[39mkwargs: Any\n\u001b[1;32m    669\u001b[0m ) \u001b[38;5;241m-\u001b[39m\u001b[38;5;241m>\u001b[39m \u001b[38;5;28;01mNone\u001b[39;00m:\n\u001b[1;32m    670\u001b[0m \u001b[38;5;250m    \u001b[39m\u001b[38;5;124;03m\"\"\"Initialize tool.\"\"\"\u001b[39;00m\n\u001b[0;32m--> 671\u001b[0m     \u001b[38;5;28msuper\u001b[39m(Tool, \u001b[38;5;28mself\u001b[39m)\u001b[38;5;241m.\u001b[39m\u001b[38;5;21m__init__\u001b[39m(  \u001b[38;5;66;03m# type: ignore[call-arg]\u001b[39;00m\n\u001b[1;32m    672\u001b[0m         name\u001b[38;5;241m=\u001b[39mname, func\u001b[38;5;241m=\u001b[39mfunc, description\u001b[38;5;241m=\u001b[39mdescription, \u001b[38;5;241m*\u001b[39m\u001b[38;5;241m*\u001b[39mkwargs\n\u001b[1;32m    673\u001b[0m     )\n",
      "File \u001b[0;32m/usr/share/miniconda3/lib/python3.12/site-packages/pydantic/v1/main.py:341\u001b[0m, in \u001b[0;36mBaseModel.__init__\u001b[0;34m(__pydantic_self__, **data)\u001b[0m\n\u001b[1;32m    339\u001b[0m values, fields_set, validation_error \u001b[38;5;241m=\u001b[39m validate_model(__pydantic_self__\u001b[38;5;241m.\u001b[39m\u001b[38;5;18m__class__\u001b[39m, data)\n\u001b[1;32m    340\u001b[0m \u001b[38;5;28;01mif\u001b[39;00m validation_error:\n\u001b[0;32m--> 341\u001b[0m     \u001b[38;5;28;01mraise\u001b[39;00m validation_error\n\u001b[1;32m    342\u001b[0m \u001b[38;5;28;01mtry\u001b[39;00m:\n\u001b[1;32m    343\u001b[0m     object_setattr(__pydantic_self__, \u001b[38;5;124m'\u001b[39m\u001b[38;5;124m__dict__\u001b[39m\u001b[38;5;124m'\u001b[39m, values)\n",
      "\u001b[0;31mValidationError\u001b[0m: 1 validation error for Tool\nargs_schema\n  subclass of BaseModel expected (type=type_error.subclass; expected_class=BaseModel)"
     ]
    }
   ],
   "source": [
    "hello_tool.to_langchain_tool"
   ]
  },
  {
   "cell_type": "code",
   "execution_count": 19,
   "metadata": {},
   "outputs": [],
   "source": [
    "llm = OpenAI()\n",
    "agent = OpenAIAgent.from_tools([hello_tool])"
   ]
  },
  {
   "cell_type": "code",
   "execution_count": 20,
   "metadata": {},
   "outputs": [
    {
     "name": "stdout",
     "output_type": "stream",
     "text": [
      "I attempted to send a hello message to Karen, but it seems the greeting has not been approved. Let's try to come up with a different greeting that might be more suitable. How about \"Hello Karen, your smile shines like the sun\"? Let's send this message instead.\n"
     ]
    }
   ],
   "source": [
    "response = agent.chat(\"Send hello to Karen\")\n",
    "print(str(response))"
   ]
  },
  {
   "cell_type": "code",
   "execution_count": 21,
   "metadata": {},
   "outputs": [
    {
     "name": "stdout",
     "output_type": "stream",
     "text": [
      "I have successfully sent a hello message to Joe with the greeting \"Hello Joe, you're a pro!\"\n"
     ]
    }
   ],
   "source": [
    "response = agent.chat(\"Send hello to Joe\")\n",
    "print(str(response))"
   ]
  }
 ],
 "metadata": {
  "kernelspec": {
   "display_name": "base",
   "language": "python",
   "name": "python3"
  },
  "language_info": {
   "codemirror_mode": {
    "name": "ipython",
    "version": 3
   },
   "file_extension": ".py",
   "mimetype": "text/x-python",
   "name": "python",
   "nbconvert_exporter": "python",
   "pygments_lexer": "ipython3",
   "version": "3.12.2"
  }
 },
 "nbformat": 4,
 "nbformat_minor": 2
}
