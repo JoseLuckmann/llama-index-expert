{
 "cells": [
  {
   "cell_type": "markdown",
   "metadata": {},
   "source": [
    "# Function call with callback\n",
    "\n",
    "This is a feature that allows applying some human-in-the-loop concepts in FunctionTool.\n",
    "\n",
    "Basically, a callback function is added that enables the developer to request user input in the middle of an agent interaction, as well as allowing any programmatic action."
   ]
  },
  {
   "cell_type": "code",
   "execution_count": null,
   "metadata": {},
   "outputs": [],
   "source": [
    "%pip install llama-index-llms-openai\n",
    "%pip install llama-index-agents-openai"
   ]
  },
  {
   "cell_type": "code",
   "execution_count": 7,
   "metadata": {},
   "outputs": [],
   "source": [
    "from llama_index.core.tools import FunctionTool\n",
    "from llama_index.agent.openai import OpenAIAgent\n",
    "from llama_index.llms.openai import OpenAI\n",
    "import os"
   ]
  },
  {
   "cell_type": "code",
   "execution_count": 8,
   "metadata": {},
   "outputs": [],
   "source": [
    "os.environ[\"OPENAI_API_KEY\"] = \"sk-\""
   ]
  },
  {
   "cell_type": "markdown",
   "metadata": {},
   "source": [
    "Function to display to the user the data produced for function calling and request their input to return to the interaction."
   ]
  },
  {
   "cell_type": "code",
   "execution_count": 17,
   "metadata": {},
   "outputs": [],
   "source": [
    "def callback(message):\n",
    "\n",
    "    confirmation = input(f\"{message[1]}\\nDo you approve of sending this greeting?\\nInput(Y/N):\")\n",
    "\n",
    "    if confirmation.lower() == \"y\":  \n",
    "        # Here you can trigger an action such as sending an email, message, api call, etc.  \n",
    "        return \"Greeting sent successfully.\"\n",
    "    else:\n",
    "        return \"Greeting has not been approved, talk a bit about how to improve\""
   ]
  },
  {
   "cell_type": "markdown",
   "metadata": {},
   "source": [
    "Simple function that only requires a recipient and a greeting message."
   ]
  },
  {
   "cell_type": "code",
   "execution_count": 18,
   "metadata": {},
   "outputs": [],
   "source": [
    "def send_hello(destination:str, message:str)->str:\n",
    "    \"\"\"\n",
    "    Say hello with a rhyme \n",
    "    destination: str - Name of recipient\n",
    "    message: str - Greeting message with a rhyme to the recipient's name\n",
    "    \"\"\"   \n",
    "\n",
    "    return destination, message\n",
    "\n",
    "hello_tool = FunctionTool.from_defaults(fn=send_hello, callback=callback)"
   ]
  },
  {
   "cell_type": "code",
   "execution_count": 19,
   "metadata": {},
   "outputs": [],
   "source": [
    "llm = OpenAI()\n",
    "agent = OpenAIAgent.from_tools([hello_tool])"
   ]
  },
  {
   "cell_type": "code",
   "execution_count": 20,
   "metadata": {},
   "outputs": [
    {
     "name": "stdout",
     "output_type": "stream",
     "text": [
      "I attempted to send a hello message to Karen, but it seems the greeting has not been approved. Let's try to come up with a different greeting that might be more suitable. How about \"Hello Karen, your smile shines like the sun\"? Let's send this message instead.\n"
     ]
    }
   ],
   "source": [
    "response = agent.chat(\"Send hello to Karen\")\n",
    "print(str(response))"
   ]
  },
  {
   "cell_type": "code",
   "execution_count": 21,
   "metadata": {},
   "outputs": [
    {
     "name": "stdout",
     "output_type": "stream",
     "text": [
      "I have successfully sent a hello message to Joe with the greeting \"Hello Joe, you're a pro!\"\n"
     ]
    }
   ],
   "source": [
    "response = agent.chat(\"Send hello to Joe\")\n",
    "print(str(response))"
   ]
  }
 ],
 "metadata": {
  "kernelspec": {
   "display_name": "base",
   "language": "python",
   "name": "python3"
  },
  "language_info": {
   "codemirror_mode": {
    "name": "ipython",
    "version": 3
   },
   "file_extension": ".py",
   "mimetype": "text/x-python",
   "name": "python",
   "nbconvert_exporter": "python",
   "pygments_lexer": "ipython3",
   "version": "3.12.2"
  }
 },
 "nbformat": 4,
 "nbformat_minor": 2
}
